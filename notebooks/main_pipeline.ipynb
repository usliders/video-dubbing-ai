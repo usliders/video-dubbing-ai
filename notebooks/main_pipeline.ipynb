{
 "cells": [
  {
   "cell_type": "markdown",
   "metadata": {},
   "source": [
    "# Основной пайплайн Video Dubbing AI\n",
    "\n",
    "1. Пути к данным\n",
    "2. Загрузка сегментов (ASR)\n",
    "3. Перевод (MT)\n",
    "4. Генерация аудио (TTS)\n",
    "5. Сборка итоговой аудиодорожки\n",
    "6. Замена аудиодорожки в видео\n",
    "7. Визуализация"
   ]
  },
  {
   "cell_type": "markdown",
   "metadata": {},
   "source": [
    "## 1. Пути к данным"
   ]
  },
  {
   "cell_type": "code",
   "execution_count": null,
   "metadata": {},
   "outputs": [],
   "source": [
    "import sys, os\n",
    "print('Python executable:', sys.executable)\n",
    "print('Если ядро не совпадает с venv — выберите вручную!')\n",
    "\n",
    "project_root = os.path.abspath(os.path.join(os.getcwd(), '..'))\n",
    "src_path = os.path.join(project_root, 'src')\n",
    "if src_path not in sys.path:\n",
    "    sys.path.insert(0, src_path)\n",
    "print('src_path:', src_path)\n",
    "print('sys.path:', sys.path)"
   ]
  },
  {
   "cell_type": "markdown",
   "metadata": {},
   "source": [
    "## 2. Загрузка сегментов (ASR)"
   ]
  },
  {
   "cell_type": "code",
   "execution_count": null,
   "metadata": {},
   "outputs": [],
   "source": [
    "import glob, re, os\n",
    "\n",
    "output_dir = '../data/output'\n",
    "pattern = os.path.join(output_dir, 'asr_segments_ru_*.txt')\n",
    "files = glob.glob(pattern)\n",
    "valid_files = [f for f in files if re.match(r'asr_segments_ru_\\d{8}_\\d{4}\\.txt$', os.path.basename(f)) and os.path.getsize(f) > 1024]\n",
    "if not valid_files:\n",
    "    raise FileNotFoundError('Не найден ни один валидный файл перевода сегментов в ../data/output/')\n",
    "asr_path = sorted(valid_files, key=os.path.getmtime)[-1]\n",
    "with open(asr_path, 'r', encoding='utf-8') as f:\n",
    "    lines = f.readlines()\n",
    "\n",
    "segments = []\n",
    "for line in lines:\n",
    "    parts = line.strip().split('\\t')\n",
    "    if len(parts) < 3:\n",
    "        continue\n",
    "    start, end, text = parts[0], parts[1], '\\t'.join(parts[2:])\n",
    "    try:\n",
    "        segments.append({\n",
    "            'start': float(start.replace(',', '.')),\n",
    "            'end': float(end.replace(',', '.')),\n",
    "            'text': text\n",
    "        })\n",
    "    except Exception as e:\n",
    "        print(f\"Ошибка парсинга строки: {line} — {e}\")\n",
    "\n",
    "print(f'Загружено сегментов: {len(segments)} из {asr_path}')"
   ]
  },
  {
   "cell_type": "markdown",
   "metadata": {},
   "source": [
    "## 3. Перевод (MT)"
   ]
  },
  {
   "cell_type": "code",
   "execution_count": null,
   "metadata": {},
   "outputs": [],
   "source": [
    "from mt.translator import Translator\n",
    "mt = Translator()\n",
    "ru_segments = []\n",
    "for seg in segments:\n",
    "    ru_text = mt.translate(seg['text'], src_lang='en', tgt_lang='ru', use_gpu=False)\n",
    "    ru_segments.append({'start': seg['start'], 'end': seg['end'], 'text': ru_text})\n",
    "print(f'Переведено сегментов: {len(ru_segments)}')"
   ]
  },
  {
   "cell_type": "markdown",
   "metadata": {},
   "source": [
    "## 4. Генерация аудио (TTS)"
   ]
  },
  {
   "cell_type": "code",
   "execution_count": null,
   "metadata": {},
   "outputs": [],
   "source": [
    "from tts.voice_cloner import VoiceCloner\n",
    "tts = VoiceCloner('../data/input/reference_audio.wav')\n",
    "audio_paths = []\n",
    "for i, seg in enumerate(ru_segments):\n",
    "    out_path = f'../data/temp/run_tts_segment_{i}.wav'\n",
    "    tts.synthesize(seg['text'], output_path=out_path, use_gpu=False)\n",
    "    audio_paths.append(out_path)\n",
    "print(f'Сгенерировано аудиосегментов: {len(audio_paths)}')"
   ]
  },
  {
   "cell_type": "markdown",
   "metadata": {},
   "source": [
    "## 5. Сборка итоговой аудиодорожки"
   ]
  },
  {
   "cell_type": "code",
   "execution_count": null,
   "metadata": {},
   "outputs": [],
   "source": [
    "from vision_audio.video_processor import assemble_audio_by_segments\n",
    "processed_segments = [\n",
    "    {'start': seg['start'], 'end': seg['end'], 'audio_path': path}\n",
    "    for seg, path in zip(ru_segments, audio_paths)\n",
    "]\n",
    "final_audio_path = '../data/temp/run_assembled_audio.wav'\n",
    "assemble_audio_by_segments(processed_segments, base_audio_path='../data/input/extracted_audio.wav', output_path=final_audio_path)\n",
    "print(f'📁 Итоговое аудио: {final_audio_path}')"
   ]
  },
  {
   "cell_type": "markdown",
   "metadata": {},
   "source": [
    "## 6. Замена аудиодорожки в видео"
   ]
  },
  {
   "cell_type": "code",
   "execution_count": null,
   "metadata": {},
   "outputs": [],
   "source": [
    "from vision_audio.video_processor import VideoProcessor\n",
    "input_video = '../data/input/input.mp4'\n",
    "output_video = '../data/output/output_zero_shot_latest.mp4'\n",
    "VideoProcessor.replace_audio(input_video, final_audio_path, output_video)\n",
    "print(f'Готово! Видео сохранено: {output_video}')"
   ]
  },
  {
   "cell_type": "markdown",
   "metadata": {},
   "source": [
    "## 7. Визуализация\n",
    "### График длительности сегментов"
   ]
  },
  {
   "cell_type": "code",
   "execution_count": null,
   "metadata": {},
   "outputs": [],
   "source": [
    "%matplotlib inline\n",
    "import matplotlib.pyplot as plt\n",
    "if not ru_segments:\n",
    "    print('❌ Ошибка: ru_segments пустой список!')\n",
    "else:\n",
    "    durations = [seg['end'] - seg['start'] for seg in ru_segments]\n",
    "    plt.figure(figsize=(12, 6))\n",
    "    plt.bar(range(len(durations)), durations, alpha=0.7, color='skyblue')\n",
    "    plt.xlabel('Номер сегмента')\n",
    "    plt.ylabel('Длительность (секунды)')\n",
    "    plt.title(f'Длительность сегментов (всего: {len(durations)})')\n",
    "    plt.grid(True, alpha=0.3)\n",
    "    avg_duration = sum(durations) / len(durations)\n",
    "    plt.axhline(y=avg_duration, color='red', linestyle='--', label=f'Средняя длительность: {avg_duration:.2f}s')\n",
    "    plt.legend()\n",
    "    plt.tight_layout()\n",
    "    plt.savefig('segment_durations.png')\n",
    "    plt.show()\n",
    "    print('График сохранён в файл segment_durations.png')"
   ]
  },
  {
   "cell_type": "markdown",
   "metadata": {},
   "source": [
    "### Аудиоплеер"
   ]
  },
  {
   "cell_type": "code",
   "execution_count": null,
   "metadata": {},
   "outputs": [],
   "source": [
    "from IPython.display import Audio\n",
    "Audio(final_audio_path)"
   ]
  },
  {
   "cell_type": "markdown",
   "metadata": {},
   "source": [
    "### Видеоплеер"
   ]
  },
  {
   "cell_type": "code",
   "execution_count": null,
   "metadata": {},
   "outputs": [],
   "source": [
    "from IPython.display import Video\n",
    "import glob, os\n",
    "output_dir = '../data/output'\n",
    "mp4_files = glob.glob(os.path.join(output_dir, 'output*.mp4'))\n",
    "if not mp4_files:\n",
    "    raise FileNotFoundError('Не найдено ни одного итогового видео в ../data/output/')\n",
    "mp4_files.sort(key=os.path.getmtime, reverse=True)\n",
    "last_video = mp4_files[0]\n",
    "Video(last_video, embed=True)"
   ]
  }
 ],
 "metadata": {
  "kernelspec": {
   "display_name": "venv_2025",
   "language": "python",
   "name": "venv"
  },
  "language_info": {
   "codemirror_mode": {
    "name": "ipython",
    "version": 3
   },
   "file_extension": ".py",
   "mimetype": "text/x-python",
   "name": "python",
   "nbconvert_exporter": "python",
   "pygments_lexer": "ipython3",
   "version": "3.10.13"
  }
 },
 "nbformat": 4,
 "nbformat_minor": 2
}
