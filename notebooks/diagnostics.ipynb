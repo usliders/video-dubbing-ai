{
 "cells": [
  {
   "cell_type": "markdown",
   "metadata": {},
   "source": [
    "# Диагностика и анализ пайплайна\n",
    "\n",
    "В этом ноутбуке представлены инструменты для диагностики, визуализации и анализа результатов дубляжа."
   ]
  },
  {
   "cell_type": "code",
   "execution_count": 1,
   "metadata": {},
   "outputs": [],
   "source": [
    "# --- Импорт библиотек ---\n",
    "import matplotlib.pyplot as plt\n",
    "import numpy as np\n",
    "from IPython.display import Audio, Video\n",
    "import json"
   ]
  },
  {
   "cell_type": "markdown",
   "metadata": {},
   "source": [
    "## 1. Визуализация сегментов (таймлиния)\n",
    "Загрузим сегменты с таймкодами и построим таймлинию."
   ]
  },
  {
   "cell_type": "code",
   "execution_count": null,
   "metadata": {},
   "outputs": [],
   "source": [
    "import os\n",
    "import glob\n",
    "import re\n",
    "\n",
    "output_dir = '../data/output'\n",
    "pattern = os.path.join(output_dir, 'asr_segments_ru_*.txt')\n",
    "files = glob.glob(pattern)\n",
    "\n",
    "print(\"Найдено файлов:\")\n",
    "for f in files:\n",
    "    print(f\"{os.path.basename(f)} — {os.path.getsize(f)} байт\")\n",
    "\n",
    "print(\"\\nПроверка регулярки:\")\n",
    "for f in files:\n",
    "    fname = os.path.basename(f)\n",
    "    match = re.match(r'asr_segments_ru_\\d{8}_\\d{4}\\.txt$', fname)\n",
    "    print(f\"{fname}: match={bool(match)}, size={os.path.getsize(f)}\")\n",
    "\n",
    "print(\"\\nПроверка startswith/endswith:\")\n",
    "for f in files:\n",
    "    fname = os.path.basename(f)\n",
    "    if fname.startswith('asr_segments_ru_') and fname.endswith('.txt'):\n",
    "        print(f\"{fname} — подходит по startswith/endswith\")\n",
    "\n",
    "print(\"\\nПроверка без ограничения по размеру:\")\n",
    "valid_files = []\n",
    "for f in files:\n",
    "    fname = os.path.basename(f)\n",
    "    if re.match(r'asr_segments_ru_\\d{8}_\\d{4}\\.txt$', fname):\n",
    "        valid_files.append(f)\n",
    "print(\"Файлы, прошедшие регулярку:\", valid_files)"
   ]
  },
  {
   "cell_type": "code",
   "execution_count": null,
   "metadata": {},
   "outputs": [],
   "source": [
    "import os\n",
    "import glob\n",
    "import re\n",
    "\n",
    "output_dir = '../data/output'\n",
    "pattern = os.path.join(output_dir, 'asr_segments_ru_*.txt')\n",
    "files = glob.glob(pattern)\n",
    "\n",
    "# Фильтруем только те, что >1 КБ и имя строго по шаблону с датой/временем\n",
    "valid_files = []\n",
    "for f in files:\n",
    "    fname = os.path.basename(f)\n",
    "    if re.match(r'asr_segments_ru_\\d{8}_\\d{4}\\.txt$', fname) and os.path.getsize(f) > 1024:\n",
    "        valid_files.append(f)\n",
    "\n",
    "if not valid_files:\n",
    "    raise FileNotFoundError(f'Не найден ни один валидный файл перевода сегментов в {output_dir}/')\n",
    "\n",
    "def extract_dt(fname):\n",
    "    m = re.search(r'(\\d{8}_\\d{4})', fname)\n",
    "    return m.group(1) if m else ''\n",
    "\n",
    "valid_files.sort(key=lambda f: extract_dt(os.path.basename(f)), reverse=True)\n",
    "path = valid_files[0]\n",
    "\n",
    "print(f'Используется файл перевода: {path}')\n",
    "with open(path, 'r', encoding='utf-8') as f:\n",
    "    lines = f.readlines()\n",
    "segments = []"
   ]
  },
  {
   "cell_type": "markdown",
   "metadata": {},
   "source": [
    "## 2. Прослушивание отдельных сегментов\n",
    "Выберите номер сегмента для прослушивания."
   ]
  },
  {
   "cell_type": "code",
   "execution_count": null,
   "metadata": {},
   "outputs": [],
   "source": [
    "# Для сегмента TTS\n",
    "seg_idx = 0  # измените на нужный номер\n",
    "Audio('../data/temp/run_tts_segment_{}.wav'.format(seg_idx))"
   ]
  },
  {
   "cell_type": "markdown",
   "metadata": {},
   "source": [
    "## 3. Сравнение оригинального и итогового аудио\n",
    "Воспроизведём оба файла для сравнения."
   ]
  },
  {
   "cell_type": "code",
   "execution_count": null,
   "metadata": {},
   "outputs": [],
   "source": [
    "# Оригинальное аудио (извлечённое из видео)\n",
    "print('Оригинальное аудио:')\n",
    "Audio('../data/temp/run_extracted_audio.wav')"
   ]
  },
  {
   "cell_type": "code",
   "execution_count": null,
   "metadata": {},
   "outputs": [],
   "source": [
    "# Итоговое аудио (склеенное)\n",
    "print('Итоговое аудио:')\n",
    "Audio('../data/temp/run_assembled_audio.wav')"
   ]
  },
  {
   "cell_type": "markdown",
   "metadata": {},
   "source": [
    "## 4. Визуализация ошибок и длительности сегментов\n",
    "Построим график длительности и отметим сегменты, где длительность сильно отличается от оригинала."
   ]
  },
  {
   "cell_type": "code",
   "execution_count": null,
   "metadata": {},
   "outputs": [],
   "source": [
    "# Для примера: сравним длительность оригинальных и сгенерированных сегментов\n",
    "orig_durations = [seg['end'] - seg['start'] for seg in segments]\n",
    "gen_durations = []\n",
    "import os\n",
    "from pydub import AudioSegment\n",
    "for i in range(len(segments)):\n",
    "    path = f'../data/temp/run_tts_segment_{i}.wav'\n",
    "    if os.path.exists(path):\n",
    "        audio = AudioSegment.from_file(path)\n",
    "        gen_durations.append(len(audio)/1000)\n",
    "    else:\n",
    "        gen_durations.append(0)\n",
    "plt.figure(figsize=(10,4))\n",
    "plt.plot(orig_durations, label='Оригинал')\n",
    "plt.plot(gen_durations, label='Сгенерировано')\n",
    "plt.xlabel('Сегмент')\n",
    "plt.ylabel('Длительность, сек')\n",
    "plt.legend()\n",
    "plt.title('Сравнение длительности сегментов')\n",
    "plt.show()"
   ]
  },
  {
   "cell_type": "markdown",
   "metadata": {},
   "source": [
    "## 5. Видеоплеер для итогового видео"
   ]
  },
  {
   "cell_type": "code",
   "execution_count": null,
   "metadata": {},
   "outputs": [],
   "source": [
    "import glob\n",
    "from IPython.display import Video\n",
    "import os\n",
    "import re\n",
    "\n",
    "output_dir = '../data/output'\n",
    "# Ищем все mp4-файлы, начинающиеся с output\n",
    "files = glob.glob(os.path.join(output_dir, 'output*.mp4'))\n",
    "if not files:\n",
    "    raise FileNotFoundError('Не найдено ни одного итогового видео в ../data/output/')\n",
    "# Сортируем по времени изменения (или по дате/времени в имени, если нужно)\n",
    "files.sort(key=os.path.getmtime, reverse=True)\n",
    "video_path = files[0]\n",
    "print(f'Показывается видео: {video_path}')\n",
    "Video(video_path, embed=True)"
   ]
  }
 ],
 "metadata": {
  "kernelspec": {
   "display_name": "video_dubbing_ai",
   "language": "python",
   "name": "myenv"
  },
  "language_info": {
   "codemirror_mode": {
    "name": "ipython",
    "version": 3
   },
   "file_extension": ".py",
   "mimetype": "text/x-python",
   "name": "python",
   "nbconvert_exporter": "python",
   "pygments_lexer": "ipython3",
   "version": "3.10.13"
  }
 },
 "nbformat": 4,
 "nbformat_minor": 2
}
